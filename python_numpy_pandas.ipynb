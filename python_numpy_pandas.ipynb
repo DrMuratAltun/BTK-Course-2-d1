{
 "cells": [
  {
   "cell_type": "markdown",
   "id": "94454fd9",
   "metadata": {},
   "source": [
    "# 1. GÜN: Python ile Numpy ve Pandas Kütüphaneleri Kullanımı"
   ]
  },
  {
   "cell_type": "code",
   "execution_count": 1,
   "id": "c1ee5812",
   "metadata": {},
   "outputs": [
    {
     "name": "stdout",
     "output_type": "stream",
     "text": [
      "merhaba\n"
     ]
    }
   ],
   "source": [
    "print('merhaba')"
   ]
  },
  {
   "cell_type": "code",
   "execution_count": 2,
   "id": "96d7a828",
   "metadata": {},
   "outputs": [
    {
     "data": {
      "text/plain": [
       "123"
      ]
     },
     "execution_count": 2,
     "metadata": {},
     "output_type": "execute_result"
    }
   ],
   "source": [
    "#Python'da sayı-metin-açıklma yazdırma\n",
    "123"
   ]
  },
  {
   "cell_type": "code",
   "execution_count": 3,
   "id": "f2020908",
   "metadata": {},
   "outputs": [
    {
     "name": "stdout",
     "output_type": "stream",
     "text": [
      "123\n",
      "123\n",
      "Murat\n"
     ]
    }
   ],
   "source": [
    "print('123')\n",
    "print(123)\n",
    "print('Murat')"
   ]
  },
  {
   "cell_type": "code",
   "execution_count": 4,
   "id": "c88b8f78",
   "metadata": {},
   "outputs": [
    {
     "data": {
      "text/plain": [
       "(12, 23, 45)"
      ]
     },
     "execution_count": 4,
     "metadata": {},
     "output_type": "execute_result"
    }
   ],
   "source": [
    "12,23,45"
   ]
  },
  {
   "cell_type": "code",
   "execution_count": 5,
   "id": "e986b699",
   "metadata": {},
   "outputs": [
    {
     "data": {
      "text/plain": [
       "27"
      ]
     },
     "execution_count": 5,
     "metadata": {},
     "output_type": "execute_result"
    }
   ],
   "source": [
    "x=12\n",
    "y=15\n",
    "z=x+y\n",
    "x\n",
    "y\n",
    "z # yalnızca son değeri gçsterir"
   ]
  },
  {
   "cell_type": "code",
   "execution_count": 6,
   "id": "26d65a44",
   "metadata": {},
   "outputs": [
    {
     "name": "stdout",
     "output_type": "stream",
     "text": [
      "12\n",
      "15\n",
      "27\n"
     ]
    }
   ],
   "source": [
    "x=12\n",
    "y=15\n",
    "z=x+y\n",
    "print(x)\n",
    "print(y)\n",
    "print(z)"
   ]
  },
  {
   "cell_type": "code",
   "execution_count": 7,
   "id": "e45d9071",
   "metadata": {},
   "outputs": [
    {
     "name": "stdout",
     "output_type": "stream",
     "text": [
      "12 15 27\n"
     ]
    }
   ],
   "source": [
    "print(x,y,z)"
   ]
  },
  {
   "cell_type": "code",
   "execution_count": 8,
   "id": "f7f7efde",
   "metadata": {},
   "outputs": [
    {
     "name": "stdout",
     "output_type": "stream",
     "text": [
      "Murat ALTUN\n"
     ]
    }
   ],
   "source": [
    "print('Murat',\"ALTUN\")"
   ]
  },
  {
   "cell_type": "code",
   "execution_count": 9,
   "id": "613498ee",
   "metadata": {},
   "outputs": [
    {
     "name": "stdout",
     "output_type": "stream",
     "text": [
      "Murat-ALTUN\n"
     ]
    }
   ],
   "source": [
    "print('Murat',\"ALTUN\",sep=\"-\")"
   ]
  },
  {
   "cell_type": "code",
   "execution_count": 11,
   "id": "dfcc1acd",
   "metadata": {},
   "outputs": [],
   "source": [
    "w=10"
   ]
  },
  {
   "cell_type": "code",
   "execution_count": 12,
   "id": "e7d7db50",
   "metadata": {},
   "outputs": [
    {
     "name": "stdout",
     "output_type": "stream",
     "text": [
      "10\n"
     ]
    }
   ],
   "source": [
    "print(w)"
   ]
  },
  {
   "cell_type": "code",
   "execution_count": 14,
   "id": "5a36e0af",
   "metadata": {},
   "outputs": [
    {
     "name": "stdout",
     "output_type": "stream",
     "text": [
      "12\n",
      "15-27\n"
     ]
    }
   ],
   "source": [
    "print(x,end=\"\\n\") # varsaılan değeri /n\n",
    "print(y, end=\"-\") \n",
    "print(z)"
   ]
  },
  {
   "cell_type": "code",
   "execution_count": 15,
   "id": "86019027",
   "metadata": {},
   "outputs": [
    {
     "data": {
      "text/plain": [
       "14"
      ]
     },
     "execution_count": 15,
     "metadata": {},
     "output_type": "execute_result"
    }
   ],
   "source": [
    "#IPYNB'de\n",
    "9+5"
   ]
  },
  {
   "cell_type": "code",
   "execution_count": 16,
   "id": "c9418757",
   "metadata": {},
   "outputs": [
    {
     "data": {
      "text/plain": [
       "8"
      ]
     },
     "execution_count": 16,
     "metadata": {},
     "output_type": "execute_result"
    }
   ],
   "source": [
    "2**3 #üssü"
   ]
  },
  {
   "cell_type": "code",
   "execution_count": 17,
   "id": "05f621f2",
   "metadata": {},
   "outputs": [
    {
     "data": {
      "text/plain": [
       "10"
      ]
     },
     "execution_count": 17,
     "metadata": {},
     "output_type": "execute_result"
    }
   ],
   "source": [
    "5*5\n",
    "5+5"
   ]
  },
  {
   "cell_type": "code",
   "execution_count": 18,
   "id": "4df636de",
   "metadata": {},
   "outputs": [
    {
     "name": "stdout",
     "output_type": "stream",
     "text": [
      "13\n"
     ]
    }
   ],
   "source": [
    "print (2**3+5)"
   ]
  },
  {
   "cell_type": "code",
   "execution_count": 19,
   "id": "6d22d8fd",
   "metadata": {},
   "outputs": [
    {
     "data": {
      "text/plain": [
       "'Murat ALTUN'"
      ]
     },
     "execution_count": 19,
     "metadata": {},
     "output_type": "execute_result"
    }
   ],
   "source": [
    "\"Murat\"+\" \"+\"ALTUN\" # + operatörü str metinleri ekler"
   ]
  },
  {
   "cell_type": "code",
   "execution_count": 20,
   "id": "d9142315",
   "metadata": {},
   "outputs": [
    {
     "name": "stdout",
     "output_type": "stream",
     "text": [
      "25\n"
     ]
    }
   ],
   "source": [
    "print(5*5)"
   ]
  },
  {
   "cell_type": "code",
   "execution_count": 22,
   "id": "b5f0ecd5",
   "metadata": {
    "collapsed": true
   },
   "outputs": [
    {
     "name": "stdout",
     "output_type": "stream",
     "text": [
      "BTK\n",
      "BTK\n",
      "BTK\n",
      "BTK\n",
      "BTK\n",
      "\n",
      "BTKBTKBTKBTKBTK\n"
     ]
    }
   ],
   "source": [
    "print(5*'BTK\\n')\n",
    "print(5*'BTK')"
   ]
  },
  {
   "cell_type": "code",
   "execution_count": 23,
   "id": "894c4723",
   "metadata": {
    "collapsed": true
   },
   "outputs": [
    {
     "name": "stdout",
     "output_type": "stream",
     "text": [
      "BTK\tBTK\tBTK\tBTK\tBTK\tBTK\tBTK\tBTK\tBTK\tBTK\tBTK\tBTK\tBTK\tBTK\tBTK\tBTK\tBTK\tBTK\tBTK\tBTK\tBTK\tBTK\tBTK\tBTK\tBTK\tBTK\tBTK\tBTK\tBTK\tBTK\tBTK\tBTK\tBTK\tBTK\tBTK\tBTK\tBTK\tBTK\tBTK\tBTK\tBTK\tBTK\tBTK\tBTK\tBTK\tBTK\tBTK\tBTK\tBTK\tBTK\tBTK\tBTK\tBTK\tBTK\tBTK\tBTK\tBTK\tBTK\tBTK\tBTK\tBTK\tBTK\tBTK\tBTK\tBTK\tBTK\tBTK\tBTK\tBTK\tBTK\tBTK\tBTK\tBTK\tBTK\tBTK\tBTK\tBTK\tBTK\tBTK\tBTK\tBTK\tBTK\tBTK\tBTK\tBTK\tBTK\tBTK\tBTK\tBTK\tBTK\tBTK\tBTK\tBTK\tBTK\tBTK\tBTK\tBTK\tBTK\tBTK\tBTK\t\n"
     ]
    }
   ],
   "source": [
    "print(100*\"BTK\\t\")"
   ]
  },
  {
   "cell_type": "code",
   "execution_count": 26,
   "id": "395e57a5",
   "metadata": {
    "collapsed": true
   },
   "outputs": [
    {
     "name": "stdout",
     "output_type": "stream",
     "text": [
      "9+5= 14\n",
      "9-5= 4\n",
      "9*5= 45\n",
      "9/5= 1.8\n",
      "9%5 4\n",
      "9**5= 59049\n",
      "9//5= 1\n"
     ]
    }
   ],
   "source": [
    "# Aritmetik Operatörler\n",
    "print(\"9+5=\",9+5)\n",
    "print(\"9-5=\",9-5)\n",
    "print(\"9*5=\",9*5)\n",
    "print(\"9/5=\",9/5)\n",
    "print(\"9%5\",9%5) #mod kalan sayı\n",
    "print(\"9**5=\",9**5) # üssü\n",
    "print(\"9//5=\",\n",
    "      9//5) # tam bölme\n"
   ]
  },
  {
   "cell_type": "code",
   "execution_count": 32,
   "id": "05a6bd67",
   "metadata": {},
   "outputs": [
    {
     "name": "stdout",
     "output_type": "stream",
     "text": [
      "<class 'int'>\n",
      "<class 'str'>\n",
      "<class 'float'>\n",
      "<class 'complex'>\n",
      "<class 'bool'>\n"
     ]
    }
   ],
   "source": [
    "#Değişkenler ve Veri Türleri\n",
    "sayi1=10\n",
    "print(type(sayi1))\n",
    "sayi1=\"Murat\"\n",
    "print(type(sayi1))# type fonksyonu değişenin veya değerin türünü verir\n",
    "sayi1=10.\n",
    "print(type(sayi1))\n",
    "#complex sayılar\n",
    "sayi1=10+5j\n",
    "print(type(sayi1))\n",
    "ehliyet=True\n",
    "print(type(ehliyet))"
   ]
  },
  {
   "cell_type": "code",
   "execution_count": 33,
   "id": "c702fe58",
   "metadata": {},
   "outputs": [
    {
     "data": {
      "text/plain": [
       "1"
      ]
     },
     "execution_count": 33,
     "metadata": {},
     "output_type": "execute_result"
    }
   ],
   "source": [
    "int(ehliyet) #int fonksiyonu değer tam sayı tipine çevirir"
   ]
  },
  {
   "cell_type": "code",
   "execution_count": 29,
   "id": "85f621d7",
   "metadata": {
    "collapsed": true
   },
   "outputs": [
    {
     "name": "stdout",
     "output_type": "stream",
     "text": [
      "True\n",
      "False\n",
      "False\n",
      "True\n",
      "False\n",
      "False\n",
      "True\n",
      "True\n",
      "False\n"
     ]
    }
   ],
   "source": [
    "#KArşlaştırma OperatörlerTrue False yanıt evet hayır\n",
    "sayi1=10\n",
    "sayi2=5\n",
    "print(sayi1>5) # Büyük mü\n",
    "print(sayi1<5) #küçük mü\n",
    "print(sayi1==5) # eşit mi\n",
    "print(sayi1!=sayi2) #Farklı mı\n",
    "print(9<5)\n",
    "print(9==5)\n",
    "print(9!=5)\n",
    "print(9>=5)\n",
    "print(9<=5)"
   ]
  },
  {
   "cell_type": "code",
   "execution_count": 34,
   "id": "678e4ab5",
   "metadata": {},
   "outputs": [
    {
     "name": "stdout",
     "output_type": "stream",
     "text": [
      "True\n"
     ]
    }
   ],
   "source": [
    "# Mantıksal Operatörler and, or ve not\n",
    "unversite=True\n",
    "ehliyet=True\n",
    "# and operaötrü iki değer de doruysa True döndürür\n",
    "print(unversite and ehliyet)"
   ]
  },
  {
   "cell_type": "code",
   "execution_count": 35,
   "id": "1aaa13f2",
   "metadata": {},
   "outputs": [
    {
     "name": "stdout",
     "output_type": "stream",
     "text": [
      "False\n"
     ]
    }
   ],
   "source": [
    "# Mantıksal Operatörler and, or ve not\n",
    "unversite=True\n",
    "ehliyet=False\n",
    "# and operaötrü iki değer de doruysa True döndürür Çarpma işlemine karşılık gelir\n",
    "print(unversite and ehliyet)"
   ]
  },
  {
   "cell_type": "code",
   "execution_count": 36,
   "id": "ad12191c",
   "metadata": {},
   "outputs": [
    {
     "name": "stdout",
     "output_type": "stream",
     "text": [
      "True\n"
     ]
    }
   ],
   "source": [
    "# or\n",
    "unversite=True\n",
    "ehliyet=False\n",
    "# ar operatörü verilen koşullardan bir tanesi doruysa True döndürur\n",
    "print(unversite or ehliyet)"
   ]
  },
  {
   "cell_type": "code",
   "execution_count": 37,
   "id": "6f7b949e",
   "metadata": {},
   "outputs": [
    {
     "data": {
      "text/plain": [
       "False"
      ]
     },
     "execution_count": 37,
     "metadata": {},
     "output_type": "execute_result"
    }
   ],
   "source": [
    "yas=42\n",
    "ehliyet=True\n",
    "unversite=True\n",
    "tecrube=5\n",
    "#şart: 25 yaş ve altı üniversite mzeunu veya 5 yıl tecrübe ehliyet zorunlu\n",
    "yas<=25 and (universite or tecrube>=5) and ehliyet\n"
   ]
  },
  {
   "cell_type": "code",
   "execution_count": 39,
   "id": "c26e817e",
   "metadata": {},
   "outputs": [
    {
     "data": {
      "text/plain": [
       "True"
      ]
     },
     "execution_count": 39,
     "metadata": {},
     "output_type": "execute_result"
    }
   ],
   "source": [
    "yas=25\n",
    "ehliyet=True\n",
    "universite=True\n",
    "tecrube=4\n",
    "#şart: 25 yaş ve altı üniversite mzeunu veya 5 yıl tecrübe ehliyet zorunlu\n",
    "yas<=25 and (universite or tecrube>=5) and ehliyet"
   ]
  },
  {
   "cell_type": "code",
   "execution_count": 40,
   "id": "1d0b7dbf",
   "metadata": {},
   "outputs": [
    {
     "data": {
      "text/plain": [
       "False"
      ]
     },
     "execution_count": 40,
     "metadata": {},
     "output_type": "execute_result"
    }
   ],
   "source": [
    "yas=25\n",
    "ehliyet=True\n",
    "universite=False\n",
    "tecrube=4\n",
    "#şart: 25 yaş ve altı üniversite mzeunu veya 5 yıl tecrübe ehliyet zorunlu\n",
    "yas<=25 and (universite or tecrube>=5) and ehliyet"
   ]
  },
  {
   "cell_type": "code",
   "execution_count": 41,
   "id": "bee53cce",
   "metadata": {},
   "outputs": [
    {
     "data": {
      "text/plain": [
       "True"
      ]
     },
     "execution_count": 41,
     "metadata": {},
     "output_type": "execute_result"
    }
   ],
   "source": [
    "ehliyet==1"
   ]
  },
  {
   "cell_type": "code",
   "execution_count": 45,
   "id": "66856016",
   "metadata": {
    "collapsed": true
   },
   "outputs": [
    {
     "name": "stdout",
     "output_type": "stream",
     "text": [
      "Yas:42\n",
      "Ehliyet var mı? 1- Evet, 0- Hayır:1\n",
      "Universite mezunu 1- Evet, 0- Hayır:1\n",
      "Tecrube:5\n",
      "Mülakata girmeye hak kazanamadınız\n",
      "Yaş koşulu sağlanmıyor\n"
     ]
    }
   ],
   "source": [
    "#Koşu ifadeleri ve kullnaııc veri girişi\n",
    "yas=int(input(\"Yas:\")) # input fonk ile alınan veri str türündedir\n",
    "ehliyet=int(input(\"Ehliyet var mı? 1- Evet, 0- Hayır:\")) # 1 True False :0\n",
    "universite=bool(int(input(\"Universite mezunu 1- Evet, 0- Hayır:\")))\n",
    "tecrube=int(input(\"Tecrube:\"))\n",
    "if yas<=25 and (universite or tecrube>=5) and ehliyet:\n",
    "    print(\"Mülakata girmeye hak kazandınz\")\n",
    "else: \n",
    "    print(\"Mülakata girmeye hak kazanamadınız\")\n",
    "    if yas>25:\n",
    "        print (\"Yaş koşulu sağlanmıyor\")\n",
    "    if ehliyet==0:\n",
    "        print('Ehliyet yok')\n",
    "    if universite!=0 and tecrube<5:\n",
    "        print('Ünivertise veya iş tecrübesi yetersiz')\n",
    "        \n",
    "        "
   ]
  },
  {
   "cell_type": "code",
   "execution_count": 55,
   "id": "8a96afd4",
   "metadata": {},
   "outputs": [],
   "source": [
    "# Vize, final, derse devam notlarını ve ağırlıklarını kullanıcı girsin\n",
    "#>=90 AA\n",
    "# 85 BA\n",
    "#>=75 BB\n",
    "#>=70 CB\n",
    "#>=60 CC\n",
    "#>=50 DC\n",
    "#50 altı kalsın\n",
    "def ortalama_hesapla(vize=0, vize_yzd=0, final=0, final_yzd=0, dersevam=0, dersevam_yzd=0):\n",
    "    ''' vize=int(input(\"Vize notunu giriniz:\"))\n",
    "    vize_yzd=float(input(\"Vize apırlığını girin %:\"))\n",
    "    final=int(input(\"Final notunu giriniz:\"))\n",
    "    final_yzd=float(input(\"Final apırlığını girin %:\"))\n",
    "    dersevam=int(input(\"Derse devam notunu giriniz:\"))\n",
    "    dersevam_yzd=float(input(\"Derse devam apırlığını girin %:\"))\n",
    "      '''\n",
    "    ortalama=((vize*vize_yzd)+(final*final_yzd)+(dersevam*dersevam_yzd))\n",
    "  \n",
    "    print ('Ortalamanız:',ortalama)\n",
    "    if ortalama>=90:\n",
    "        print('AA')\n",
    "    elif ortalama>=85:\n",
    "        print('BA')\n",
    "    elif ortalama>=75:\n",
    "        print('BB')\n",
    "    elif ortalama>=70:\n",
    "        print('CB')\n",
    "    elif ortalama>=60:\n",
    "        print('CC')\n",
    "    elif ortalama>=50:\n",
    "        print('DC')\n",
    "    else:print('Kaldı')"
   ]
  },
  {
   "cell_type": "code",
   "execution_count": 54,
   "id": "56c1083c",
   "metadata": {},
   "outputs": [
    {
     "name": "stdout",
     "output_type": "stream",
     "text": [
      "Ortalamanız: 60.0\n",
      "CC\n"
     ]
    }
   ],
   "source": [
    "ortalama_hesapla(50,.20,80,.50,50,.20)"
   ]
  },
  {
   "cell_type": "code",
   "execution_count": 56,
   "id": "37502b8e",
   "metadata": {},
   "outputs": [
    {
     "name": "stdout",
     "output_type": "stream",
     "text": [
      "Ortalamanız: 60.0\n",
      "CC\n"
     ]
    }
   ],
   "source": [
    "ortalama_hesapla(vize=50,vize_yzd=.20,final=80,final_yzd=.50,dersevam=50,dersevam_yzd=.20)"
   ]
  },
  {
   "cell_type": "code",
   "execution_count": 60,
   "id": "c3c2c3b4",
   "metadata": {},
   "outputs": [
    {
     "name": "stdout",
     "output_type": "stream",
     "text": [
      "0 .sayi Merhaba\n",
      "1 .sayi Merhaba\n",
      "2 .sayi Merhaba\n",
      "3 .sayi Merhaba\n",
      "4 .sayi Merhaba\n",
      "5 .sayi Merhaba\n",
      "6 .sayi Merhaba\n",
      "7 .sayi Merhaba\n",
      "8 .sayi Merhaba\n",
      "9 .sayi Merhaba\n"
     ]
    }
   ],
   "source": [
    "#döngüler\n",
    "sayi=0\n",
    "while sayi<10:\n",
    "    print(sayi,\".sayi\",\"Merhaba\")\n",
    "    sayi+=1 #sayi=sayi+1 sayiyi  artır"
   ]
  },
  {
   "cell_type": "code",
   "execution_count": 61,
   "id": "d45103eb",
   "metadata": {},
   "outputs": [
    {
     "name": "stdout",
     "output_type": "stream",
     "text": [
      "0 .sayi Merhaba\n",
      "1 .sayi Merhaba\n",
      "2 .sayi Merhaba\n",
      "3 .sayi Merhaba\n",
      "4 .sayi Merhaba\n",
      "5 .sayi Merhaba\n",
      "6 .sayi Merhaba\n",
      "7 .sayi Merhaba\n",
      "8 .sayi Merhaba\n",
      "9 .sayi Merhaba\n"
     ]
    }
   ],
   "source": [
    "for i in range(10):\n",
    "    print(i,\".sayi\",\"Merhaba\")"
   ]
  },
  {
   "cell_type": "code",
   "execution_count": 63,
   "id": "81bfb1ce",
   "metadata": {
    "collapsed": true
   },
   "outputs": [
    {
     "name": "stdout",
     "output_type": "stream",
     "text": [
      "0 .sayi Merhaba\n",
      "2 .sayi Merhaba\n",
      "4 .sayi Merhaba\n",
      "6 .sayi Merhaba\n",
      "8 .sayi Merhaba\n"
     ]
    }
   ],
   "source": [
    "for i in range(0,10,2): # başlangıç, bitiş ve step\n",
    "    print(i,\".sayi\",\"Merhaba\")"
   ]
  },
  {
   "cell_type": "code",
   "execution_count": 65,
   "id": "58f47ac9",
   "metadata": {
    "collapsed": true
   },
   "outputs": [
    {
     "name": "stdout",
     "output_type": "stream",
     "text": [
      "1\n",
      "4\n",
      "9\n",
      "16\n",
      "25\n",
      "36\n",
      "49\n",
      "64\n",
      "81\n",
      "100\n"
     ]
    }
   ],
   "source": [
    "sayi_listesi=list(range(1,11))\n",
    "sayi_listesi\n",
    "for sayi in sayi_listesi:\n",
    "    print(sayi**2)"
   ]
  },
  {
   "cell_type": "code",
   "execution_count": 57,
   "id": "8888b370",
   "metadata": {},
   "outputs": [
    {
     "data": {
      "text/plain": [
       "[1, 4, 9, 16, 25, 36, 49, 64, 81, 100]"
      ]
     },
     "execution_count": 57,
     "metadata": {},
     "output_type": "execute_result"
    }
   ],
   "source": [
    "# listede fonksiyon uygulama list\n",
    "liste=[1,2,3,4,5,6,7,8,9,10]\n",
    "\n",
    "def kare_al(x):\n",
    "    return x**2\n",
    "\n",
    "sonuc_listesi=[kare_al(i) for i in liste]\n",
    "sonuc_listesi"
   ]
  },
  {
   "cell_type": "code",
   "execution_count": 67,
   "id": "20378528",
   "metadata": {},
   "outputs": [
    {
     "data": {
      "text/plain": [
       "[1, 4, 9, 16, 25, 36, 49, 64, 81, 100]"
      ]
     },
     "execution_count": 67,
     "metadata": {},
     "output_type": "execute_result"
    }
   ],
   "source": [
    "sonuc_listesi=[i**2 for i in liste]\n",
    "sonuc_listesi"
   ]
  },
  {
   "cell_type": "code",
   "execution_count": 68,
   "id": "c7d98614",
   "metadata": {
    "collapsed": true
   },
   "outputs": [
    {
     "name": "stdout",
     "output_type": "stream",
     "text": [
      "M\n",
      "u\n",
      "r\n",
      "a\n",
      "t\n"
     ]
    }
   ],
   "source": [
    "# karakter dizileri\n",
    "ad=\"Murat\"\n",
    "for harf in ad:\n",
    "    print(harf)"
   ]
  },
  {
   "cell_type": "code",
   "execution_count": 69,
   "id": "42349bf9",
   "metadata": {},
   "outputs": [
    {
     "data": {
      "text/plain": [
       "'M'"
      ]
     },
     "execution_count": 69,
     "metadata": {},
     "output_type": "execute_result"
    }
   ],
   "source": [
    "ad[0] # index0 dan başlar"
   ]
  },
  {
   "cell_type": "code",
   "execution_count": 70,
   "id": "e5436451",
   "metadata": {},
   "outputs": [
    {
     "data": {
      "text/plain": [
       "'Mrt'"
      ]
     },
     "execution_count": 70,
     "metadata": {},
     "output_type": "execute_result"
    }
   ],
   "source": [
    "ad[0:5:2] #başlangıç: bitiş: step"
   ]
  },
  {
   "cell_type": "code",
   "execution_count": 71,
   "id": "7b4bd409",
   "metadata": {},
   "outputs": [
    {
     "data": {
      "text/plain": [
       "'t'"
      ]
     },
     "execution_count": 71,
     "metadata": {},
     "output_type": "execute_result"
    }
   ],
   "source": [
    "ad[-1] #sondan brinci"
   ]
  },
  {
   "cell_type": "code",
   "execution_count": 73,
   "id": "de8d8350",
   "metadata": {},
   "outputs": [
    {
     "data": {
      "text/plain": [
       "'Mura'"
      ]
     },
     "execution_count": 73,
     "metadata": {},
     "output_type": "execute_result"
    }
   ],
   "source": [
    "ad[:-1]"
   ]
  },
  {
   "cell_type": "code",
   "execution_count": 74,
   "id": "abe7c766",
   "metadata": {},
   "outputs": [
    {
     "data": {
      "text/plain": [
       "'taruM'"
      ]
     },
     "execution_count": 74,
     "metadata": {},
     "output_type": "execute_result"
    }
   ],
   "source": [
    "ad[-1::-1]"
   ]
  },
  {
   "cell_type": "code",
   "execution_count": 77,
   "id": "8877f522",
   "metadata": {},
   "outputs": [
    {
     "name": "stdout",
     "output_type": "stream",
     "text": [
      "Al**** Ce**** Öz**** \n",
      "\n",
      "Sı**** OR**** \n",
      "\n",
      "Yu**** Ba**** Yı**** \n",
      "\n"
     ]
    }
   ],
   "source": [
    "BTK_Eğitim=['Ali Cemil Özdemir','Sıla ORAK',\n",
    "            'Yusuf Baran Yıldız']\n",
    "for ogreci in BTK_Eğitim:\n",
    "    ogr_ad_list=ogreci.split()\n",
    "    for ad in ogr_ad_list:\n",
    "        print(ad[0:2],\"****\",end=\" \", sep=\"\")\n",
    "    print(\"\\n\")"
   ]
  },
  {
   "cell_type": "code",
   "execution_count": 82,
   "id": "01d0a185",
   "metadata": {},
   "outputs": [],
   "source": [
    "def iism_gizle(isim_listesi):\n",
    "    for isim in isim_listesi:\n",
    "        isimler=isim.split()\n",
    "        for ad in isimler:\n",
    "            print(ad[0:2],\"****\",end=\" \", sep=\"\")\n",
    "        print(\"\\n\")"
   ]
  },
  {
   "cell_type": "code",
   "execution_count": 83,
   "id": "aba389e6",
   "metadata": {},
   "outputs": [
    {
     "name": "stdout",
     "output_type": "stream",
     "text": [
      "Al**** Ce**** Öz**** \n",
      "\n",
      "Sı**** OR**** \n",
      "\n",
      "Yu**** Ba**** Yı**** \n",
      "\n"
     ]
    }
   ],
   "source": [
    "ogrenciler=[\"Ali Cemil Özdemir\",\"Sıla ORAK\",\"Yusuf Baran Yıldız\"]\n",
    "iism_gizle(ogrenciler)"
   ]
  },
  {
   "cell_type": "code",
   "execution_count": 85,
   "id": "84ea5ca6",
   "metadata": {},
   "outputs": [
    {
     "name": "stdout",
     "output_type": "stream",
     "text": [
      "Mu**** AL**** \n",
      "\n"
     ]
    }
   ],
   "source": [
    "iism_gizle(['Murat ALTUN'])"
   ]
  },
  {
   "cell_type": "code",
   "execution_count": 88,
   "id": "f6cc0013",
   "metadata": {},
   "outputs": [
    {
     "data": {
      "text/plain": [
       "'elma'"
      ]
     },
     "execution_count": 88,
     "metadata": {},
     "output_type": "execute_result"
    }
   ],
   "source": [
    "#listeler\n",
    "meyveler=[\"elma\",\"armut\",\"muz\", \"elma\"]\n",
    "meyveler[0]"
   ]
  },
  {
   "cell_type": "code",
   "execution_count": 89,
   "id": "7da97cf6",
   "metadata": {},
   "outputs": [
    {
     "data": {
      "text/plain": [
       "[0, 1, 2, 3, 4]"
      ]
     },
     "execution_count": 89,
     "metadata": {},
     "output_type": "execute_result"
    }
   ],
   "source": [
    "sayilar=[0,1,2,3,4,5,6,7,8,9]\n",
    "sayilar[0:5]"
   ]
  },
  {
   "cell_type": "code",
   "execution_count": 90,
   "id": "ccdabf45",
   "metadata": {},
   "outputs": [
    {
     "data": {
      "text/plain": [
       "['elma', 'armut', 'muz', 'elma', 'kiraz']"
      ]
     },
     "execution_count": 90,
     "metadata": {},
     "output_type": "execute_result"
    }
   ],
   "source": [
    "#liste metotları\n",
    "meyveler.append(\"kiraz\") #eleman ekleme\n",
    "meyveler"
   ]
  },
  {
   "cell_type": "code",
   "execution_count": 91,
   "id": "db0e7e1e",
   "metadata": {},
   "outputs": [
    {
     "data": {
      "text/plain": [
       "['elma', 'armut', 'muz', 'kiraz', 'karpuz']"
      ]
     },
     "execution_count": 91,
     "metadata": {},
     "output_type": "execute_result"
    }
   ],
   "source": [
    "meyve1=[\"elma\",\"armut\",\"muz\"]\n",
    "meyve2=[\"kiraz\",\"karpuz\"]\n",
    "meyve1.extend(meyve2) #listeleri birleştirme\n",
    "meyve1"
   ]
  },
  {
   "cell_type": "code",
   "execution_count": 92,
   "id": "23a1378b",
   "metadata": {},
   "outputs": [
    {
     "data": {
      "text/plain": [
       "[('elma', 1000), ('armut', 5000), ('muz', 3000)]"
      ]
     },
     "execution_count": 92,
     "metadata": {},
     "output_type": "execute_result"
    }
   ],
   "source": [
    "#zip\n",
    "meyve1=[\"elma\",\"armut\",\"muz\"]\n",
    "uretim=[1000,5000,3000]\n",
    "meyve_uretimi=zip(meyve1,uretim)\n",
    "list(meyve_uretimi)"
   ]
  },
  {
   "cell_type": "code",
   "execution_count": 100,
   "id": "b969ffab",
   "metadata": {},
   "outputs": [
    {
     "name": "stdout",
     "output_type": "stream",
     "text": [
      "[0, 2, 4, 6, 8]\n"
     ]
    }
   ],
   "source": [
    "#filer\n",
    "sayilar=[0,1,2,3,4,5,6,7,8,9]\n",
    "def cift(sayi):\n",
    "    return sayi%2==0\n",
    "\n",
    "filtre_cift=list(filter(cift,sayilar))\n",
    "print (filtre_cift)"
   ]
  },
  {
   "cell_type": "code",
   "execution_count": 105,
   "id": "9d34a9fb",
   "metadata": {},
   "outputs": [
    {
     "name": "stdout",
     "output_type": "stream",
     "text": [
      "1 Mustafa\n",
      "2 Ali\n",
      "3 Veli\n"
     ]
    }
   ],
   "source": [
    "#enumerate\n",
    "liste=[\"Mustafa\",\"Ali\",\"Veli\"]\n",
    "for indeks,ogrenci in enumerate(liste):\n",
    "    print(indeks+1,ogrenci)"
   ]
  },
  {
   "cell_type": "code",
   "execution_count": 108,
   "id": "cd77c18e",
   "metadata": {},
   "outputs": [
    {
     "data": {
      "text/plain": [
       "1"
      ]
     },
     "execution_count": 108,
     "metadata": {},
     "output_type": "execute_result"
    }
   ],
   "source": [
    "#index\n",
    "ogrenciler=[\"Mustafa\",\"Ali\",\"Veli\", 'Ali']\n",
    "ogrenciler.index(\"Ali\")"
   ]
  },
  {
   "cell_type": "code",
   "execution_count": 110,
   "id": "a7d02fd3",
   "metadata": {},
   "outputs": [
    {
     "data": {
      "text/plain": [
       "2"
      ]
     },
     "execution_count": 110,
     "metadata": {},
     "output_type": "execute_result"
    }
   ],
   "source": [
    "# aranan ögenin sayısı\n",
    "ogrenciler.count(\"Ali\")"
   ]
  },
  {
   "cell_type": "code",
   "execution_count": 111,
   "id": "77815e56",
   "metadata": {},
   "outputs": [
    {
     "data": {
      "text/plain": [
       "['Mustafa', 'Ali', 'Veli', 'Ali', 'Murat']"
      ]
     },
     "execution_count": 111,
     "metadata": {},
     "output_type": "execute_result"
    }
   ],
   "source": [
    "ogrenciler.append(\"Murat\")\n",
    "ogrenciler"
   ]
  },
  {
   "cell_type": "code",
   "execution_count": 112,
   "id": "1e61849f",
   "metadata": {},
   "outputs": [],
   "source": [
    "ogrenciler.insert(0,\"Yusuf\") # belirtilen indexe öğrenci ekle"
   ]
  },
  {
   "cell_type": "code",
   "execution_count": 113,
   "id": "8b5573b7",
   "metadata": {},
   "outputs": [
    {
     "data": {
      "text/plain": [
       "['Yusuf', 'Mustafa', 'Ali', 'Veli', 'Ali', 'Murat']"
      ]
     },
     "execution_count": 113,
     "metadata": {},
     "output_type": "execute_result"
    }
   ],
   "source": [
    "ogrenciler"
   ]
  },
  {
   "cell_type": "code",
   "execution_count": 114,
   "id": "81ca4587",
   "metadata": {},
   "outputs": [
    {
     "data": {
      "text/plain": [
       "['Yusuf', 'Mustafa', 'Ali', 'Ali', 'Murat']"
      ]
     },
     "execution_count": 114,
     "metadata": {},
     "output_type": "execute_result"
    }
   ],
   "source": [
    "ogrenciler.remove(\"Veli\") # belirtilen ogeni sil\n",
    "ogrenciler"
   ]
  },
  {
   "cell_type": "code",
   "execution_count": 115,
   "id": "55c11312",
   "metadata": {},
   "outputs": [
    {
     "data": {
      "text/plain": [
       "'Murat'"
      ]
     },
     "execution_count": 115,
     "metadata": {},
     "output_type": "execute_result"
    }
   ],
   "source": [
    "ogrenciler.pop() # son ogeni sil"
   ]
  },
  {
   "cell_type": "code",
   "execution_count": 116,
   "id": "f17e983b",
   "metadata": {},
   "outputs": [
    {
     "data": {
      "text/plain": [
       "['Yusuf', 'Mustafa', 'Ali', 'Ali']"
      ]
     },
     "execution_count": 116,
     "metadata": {},
     "output_type": "execute_result"
    }
   ],
   "source": [
    "ogrenciler"
   ]
  },
  {
   "cell_type": "code",
   "execution_count": 86,
   "id": "593122d2",
   "metadata": {},
   "outputs": [
    {
     "data": {
      "text/plain": [
       "'elma'"
      ]
     },
     "execution_count": 86,
     "metadata": {},
     "output_type": "execute_result"
    }
   ],
   "source": [
    "#tuple demetler\n",
    "meyve=(\"elma\",\"armut\",\"muz\")\n",
    "meyve[0]"
   ]
  },
  {
   "cell_type": "code",
   "execution_count": 87,
   "id": "1213edcb",
   "metadata": {},
   "outputs": [
    {
     "data": {
      "text/plain": [
       "'muz'"
      ]
     },
     "execution_count": 87,
     "metadata": {},
     "output_type": "execute_result"
    }
   ],
   "source": [
    "meyve[-1]"
   ]
  },
  {
   "cell_type": "code",
   "execution_count": null,
   "id": "59032b0d",
   "metadata": {},
   "outputs": [],
   "source": [
    "meyve=(\"elma\",\"armut\",\"muz\", \"elma\")"
   ]
  },
  {
   "cell_type": "code",
   "execution_count": 117,
   "id": "55e9bfd7",
   "metadata": {},
   "outputs": [
    {
     "name": "stdout",
     "output_type": "stream",
     "text": [
      "dict_keys(['AI', 'ML', 'DL'])\n",
      "dict_values(['Artificial Intelligence', 'Machine Learning', 'Deep Learning'])\n",
      "dict_items([('AI', 'Artificial Intelligence'), ('ML', 'Machine Learning'), ('DL', 'Deep Learning')])\n"
     ]
    }
   ],
   "source": [
    "#Sözlükler\n",
    "sozluk={\"AI\":\"Artificial Intelligence\",\n",
    "        \"ML\":\"Machine Learning\",\n",
    "        \"DL\":\"Deep Learning\"}\n",
    "keys=sozluk.keys()\n",
    "print(keys)\n",
    "values=sozluk.values()\n",
    "print(values)\n",
    "items=sozluk.items()\n",
    "print(items)\n"
   ]
  },
  {
   "cell_type": "code",
   "execution_count": 118,
   "id": "e68ebfa1",
   "metadata": {},
   "outputs": [
    {
     "name": "stdout",
     "output_type": "stream",
     "text": [
      "Aranacak kelimeyi giriniz:ML\n",
      "Machine Learning\n"
     ]
    }
   ],
   "source": [
    "aranan_kelime=input(\"Aranacak kelimeyi giriniz:\")\n",
    "print(sozluk.get(aranan_kelime))"
   ]
  },
  {
   "cell_type": "code",
   "execution_count": 120,
   "id": "b0de98b0",
   "metadata": {},
   "outputs": [
    {
     "data": {
      "text/html": [
       "<div>\n",
       "<style scoped>\n",
       "    .dataframe tbody tr th:only-of-type {\n",
       "        vertical-align: middle;\n",
       "    }\n",
       "\n",
       "    .dataframe tbody tr th {\n",
       "        vertical-align: top;\n",
       "    }\n",
       "\n",
       "    .dataframe thead th {\n",
       "        text-align: right;\n",
       "    }\n",
       "</style>\n",
       "<table border=\"1\" class=\"dataframe\">\n",
       "  <thead>\n",
       "    <tr style=\"text-align: right;\">\n",
       "      <th></th>\n",
       "      <th>Ogrenciler</th>\n",
       "    </tr>\n",
       "  </thead>\n",
       "  <tbody>\n",
       "    <tr>\n",
       "      <th>0</th>\n",
       "      <td>Mustafa</td>\n",
       "    </tr>\n",
       "    <tr>\n",
       "      <th>1</th>\n",
       "      <td>Ali</td>\n",
       "    </tr>\n",
       "    <tr>\n",
       "      <th>2</th>\n",
       "      <td>Veli</td>\n",
       "    </tr>\n",
       "    <tr>\n",
       "      <th>3</th>\n",
       "      <td>Ali</td>\n",
       "    </tr>\n",
       "  </tbody>\n",
       "</table>\n",
       "</div>"
      ],
      "text/plain": [
       "  Ogrenciler\n",
       "0    Mustafa\n",
       "1        Ali\n",
       "2       Veli\n",
       "3        Ali"
      ]
     },
     "execution_count": 120,
     "metadata": {},
     "output_type": "execute_result"
    }
   ],
   "source": [
    "import pandas as pd\n",
    "ogrenciler=[\"Mustafa\",\"Ali\",\"Veli\", 'Ali']\n",
    "df=pd.DataFrame(ogrenciler,columns=[\"Ogrenciler\"])\n",
    "df"
   ]
  },
  {
   "cell_type": "code",
   "execution_count": 121,
   "id": "17b03b30",
   "metadata": {},
   "outputs": [
    {
     "data": {
      "text/html": [
       "<div>\n",
       "<style scoped>\n",
       "    .dataframe tbody tr th:only-of-type {\n",
       "        vertical-align: middle;\n",
       "    }\n",
       "\n",
       "    .dataframe tbody tr th {\n",
       "        vertical-align: top;\n",
       "    }\n",
       "\n",
       "    .dataframe thead th {\n",
       "        text-align: right;\n",
       "    }\n",
       "</style>\n",
       "<table border=\"1\" class=\"dataframe\">\n",
       "  <thead>\n",
       "    <tr style=\"text-align: right;\">\n",
       "      <th></th>\n",
       "      <th>Adi</th>\n",
       "      <th>Soyadi</th>\n",
       "      <th>Numarasi</th>\n",
       "    </tr>\n",
       "  </thead>\n",
       "  <tbody>\n",
       "    <tr>\n",
       "      <th>0</th>\n",
       "      <td>Mustafa</td>\n",
       "      <td>Cemal</td>\n",
       "      <td>1</td>\n",
       "    </tr>\n",
       "    <tr>\n",
       "      <th>1</th>\n",
       "      <td>Ali</td>\n",
       "      <td>Ozdemir</td>\n",
       "      <td>2</td>\n",
       "    </tr>\n",
       "    <tr>\n",
       "      <th>2</th>\n",
       "      <td>Veli</td>\n",
       "      <td>Yıldız</td>\n",
       "      <td>3</td>\n",
       "    </tr>\n",
       "    <tr>\n",
       "      <th>3</th>\n",
       "      <td>Ali</td>\n",
       "      <td>Ozdemir</td>\n",
       "      <td>4</td>\n",
       "    </tr>\n",
       "  </tbody>\n",
       "</table>\n",
       "</div>"
      ],
      "text/plain": [
       "       Adi   Soyadi  Numarasi\n",
       "0  Mustafa    Cemal         1\n",
       "1      Ali  Ozdemir         2\n",
       "2     Veli   Yıldız         3\n",
       "3      Ali  Ozdemir         4"
      ]
     },
     "execution_count": 121,
     "metadata": {},
     "output_type": "execute_result"
    }
   ],
   "source": [
    "#sözlüken bir data frame oluşturma\n",
    "ogrenciler={\"Adi\":[\"Mustafa\",\"Ali\",\"Veli\", 'Ali'],\n",
    "            \"Soyadi\":[\"Cemal\",\"Ozdemir\",\"Yıldız\", 'Ozdemir'],\n",
    "            \"Numarasi\":[1,2,3,4]}\n",
    "df=pd.DataFrame(ogrenciler)\n",
    "df"
   ]
  },
  {
   "cell_type": "code",
   "execution_count": 122,
   "id": "ec1ed9f7",
   "metadata": {},
   "outputs": [],
   "source": [
    "df.to_csv(\"ogrenciler.csv\")"
   ]
  },
  {
   "cell_type": "code",
   "execution_count": 123,
   "id": "442ad5cf",
   "metadata": {},
   "outputs": [
    {
     "data": {
      "text/html": [
       "<div>\n",
       "<style scoped>\n",
       "    .dataframe tbody tr th:only-of-type {\n",
       "        vertical-align: middle;\n",
       "    }\n",
       "\n",
       "    .dataframe tbody tr th {\n",
       "        vertical-align: top;\n",
       "    }\n",
       "\n",
       "    .dataframe thead th {\n",
       "        text-align: right;\n",
       "    }\n",
       "</style>\n",
       "<table border=\"1\" class=\"dataframe\">\n",
       "  <thead>\n",
       "    <tr style=\"text-align: right;\">\n",
       "      <th></th>\n",
       "      <th>Unnamed: 0</th>\n",
       "      <th>Adi</th>\n",
       "      <th>Soyadi</th>\n",
       "      <th>Numarasi</th>\n",
       "    </tr>\n",
       "  </thead>\n",
       "  <tbody>\n",
       "    <tr>\n",
       "      <th>0</th>\n",
       "      <td>0</td>\n",
       "      <td>Mustafa</td>\n",
       "      <td>Cemal</td>\n",
       "      <td>1</td>\n",
       "    </tr>\n",
       "    <tr>\n",
       "      <th>1</th>\n",
       "      <td>1</td>\n",
       "      <td>Ali</td>\n",
       "      <td>Ozdemir</td>\n",
       "      <td>2</td>\n",
       "    </tr>\n",
       "    <tr>\n",
       "      <th>2</th>\n",
       "      <td>2</td>\n",
       "      <td>Veli</td>\n",
       "      <td>Yıldız</td>\n",
       "      <td>3</td>\n",
       "    </tr>\n",
       "    <tr>\n",
       "      <th>3</th>\n",
       "      <td>3</td>\n",
       "      <td>Ali</td>\n",
       "      <td>Ozdemir</td>\n",
       "      <td>4</td>\n",
       "    </tr>\n",
       "  </tbody>\n",
       "</table>\n",
       "</div>"
      ],
      "text/plain": [
       "   Unnamed: 0      Adi   Soyadi  Numarasi\n",
       "0           0  Mustafa    Cemal         1\n",
       "1           1      Ali  Ozdemir         2\n",
       "2           2     Veli   Yıldız         3\n",
       "3           3      Ali  Ozdemir         4"
      ]
     },
     "execution_count": 123,
     "metadata": {},
     "output_type": "execute_result"
    }
   ],
   "source": [
    "df2=pd.read_csv(\"ogrenciler.csv\")\n",
    "df2"
   ]
  },
  {
   "cell_type": "code",
   "execution_count": null,
   "id": "8b37877d",
   "metadata": {},
   "outputs": [],
   "source": []
  }
 ],
 "metadata": {
  "kernelspec": {
   "display_name": "Python 3 (ipykernel)",
   "language": "python",
   "name": "python3"
  },
  "language_info": {
   "codemirror_mode": {
    "name": "ipython",
    "version": 3
   },
   "file_extension": ".py",
   "mimetype": "text/x-python",
   "name": "python",
   "nbconvert_exporter": "python",
   "pygments_lexer": "ipython3",
   "version": "3.11.5"
  }
 },
 "nbformat": 4,
 "nbformat_minor": 5
}
